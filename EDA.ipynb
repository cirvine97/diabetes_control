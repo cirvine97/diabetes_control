{
 "cells": [
  {
   "cell_type": "code",
   "execution_count": 2,
   "id": "b97d4866-edbd-4b27-be90-1943c495513c",
   "metadata": {},
   "outputs": [],
   "source": [
    "import pandas as pd"
   ]
  },
  {
   "cell_type": "code",
   "execution_count": 3,
   "id": "d3eff066-d990-48b3-9da2-bbbc02a2de92",
   "metadata": {},
   "outputs": [
    {
     "name": "stderr",
     "output_type": "stream",
     "text": [
      "/var/folders/sz/7ks1h0g97z9chgj678nf1rpc0000gp/T/ipykernel_3146/1997365321.py:3: DtypeWarning: Columns (13) have mixed types. Specify dtype option on import or set low_memory=False.\n",
      "  bg = pd.read_csv(\n"
     ]
    }
   ],
   "source": [
    "## Read in the blood glucose data\n",
    "bg_csv = 'CurtisIrvine_glucose_6-21-2022.csv'\n",
    "bg = pd.read_csv(\n",
    "    bg_csv,\n",
    "    header = 1\n",
    ")"
   ]
  },
  {
   "cell_type": "code",
   "execution_count": 4,
   "id": "5e58cb34-2ebd-4b75-9e5e-3e387e41e2ba",
   "metadata": {},
   "outputs": [
    {
     "data": {
      "text/plain": [
       "0.260335495414896"
      ]
     },
     "execution_count": 4,
     "metadata": {},
     "output_type": "execute_result"
    }
   ],
   "source": [
    "## Find the number of NaNs\n",
    "proportion_nan = list(pd.isnull(bg['Historic Glucose mmol/L'])).count(True) \\\n",
    "/list(pd.isnull(bg['Historic Glucose mmol/L'])).count(False)\n",
    "\n",
    "proportion_nan"
   ]
  },
  {
   "cell_type": "code",
   "execution_count": 5,
   "id": "03b847df-39b8-4bb7-bdf7-666014a36d35",
   "metadata": {},
   "outputs": [],
   "source": [
    "## Annoying amount but doable. Drop NaNs\n",
    "bg = bg[bg['Historic Glucose mmol/L'].notna()]"
   ]
  },
  {
   "cell_type": "code",
   "execution_count": 8,
   "id": "082b5ef6-0383-40e8-8722-150dd6da5e48",
   "metadata": {},
   "outputs": [
    {
     "data": {
      "text/plain": [
       "array(['Device', 'Serial Number', 'Device Timestamp', 'Record Type',\n",
       "       'Historic Glucose mmol/L', 'Scan Glucose mmol/L',\n",
       "       'Non-numeric Rapid-Acting Insulin', 'Rapid-Acting Insulin (units)',\n",
       "       'Non-numeric Food', 'Carbohydrates (grams)',\n",
       "       'Carbohydrates (servings)', 'Non-numeric Long-Acting Insulin',\n",
       "       'Long-Acting Insulin (units)', 'Notes', 'Strip Glucose mmol/L',\n",
       "       'Ketone mmol/L', 'Meal Insulin (units)',\n",
       "       'Correction Insulin (units)', 'User Change Insulin (units)'],\n",
       "      dtype=object)"
      ]
     },
     "execution_count": 8,
     "metadata": {},
     "output_type": "execute_result"
    }
   ],
   "source": [
    "## Keep on the relevant columns for learning\n",
    "bg = bg[['Device Timestamp',\n",
    "         'Historic Glucose mmol/L',\n",
    "         'Scan Glucose mmol/L',\n",
    "         'Notes'\n",
    "]]"
   ]
  },
  {
   "cell_type": "code",
   "execution_count": 17,
   "id": "c876cc8a-1618-4e15-af33-3a3b4f1bd87f",
   "metadata": {},
   "outputs": [],
   "source": [
    "## Rename the columns \n",
    "bg = bg.rename(columns = {\n",
    "    \"Device Timestamp\": \"timestamp\",\n",
    "    \"Historic Glucose mmol/L\": \"glucose\",\n",
    "    \"Scan Glucose mmol/L\": \"scan_glucose\",\n",
    "    \"Notes\": \"notes\"\n",
    "}\n",
    "         )"
   ]
  },
  {
   "cell_type": "code",
   "execution_count": 26,
   "id": "8de6fc71-85a0-457b-a350-8c1681785fb4",
   "metadata": {},
   "outputs": [
    {
     "data": {
      "text/html": [
       "<div>\n",
       "<style scoped>\n",
       "    .dataframe tbody tr th:only-of-type {\n",
       "        vertical-align: middle;\n",
       "    }\n",
       "\n",
       "    .dataframe tbody tr th {\n",
       "        vertical-align: top;\n",
       "    }\n",
       "\n",
       "    .dataframe thead th {\n",
       "        text-align: right;\n",
       "    }\n",
       "</style>\n",
       "<table border=\"1\" class=\"dataframe\">\n",
       "  <thead>\n",
       "    <tr style=\"text-align: right;\">\n",
       "      <th></th>\n",
       "      <th>timestamp</th>\n",
       "      <th>glucose</th>\n",
       "      <th>scan_glucose</th>\n",
       "      <th>notes</th>\n",
       "    </tr>\n",
       "  </thead>\n",
       "  <tbody>\n",
       "    <tr>\n",
       "      <th>0</th>\n",
       "      <td>03-05-2018 02:14 PM</td>\n",
       "      <td>7.6</td>\n",
       "      <td>NaN</td>\n",
       "      <td>NaN</td>\n",
       "    </tr>\n",
       "    <tr>\n",
       "      <th>1</th>\n",
       "      <td>03-05-2018 02:29 PM</td>\n",
       "      <td>9.3</td>\n",
       "      <td>NaN</td>\n",
       "      <td>NaN</td>\n",
       "    </tr>\n",
       "    <tr>\n",
       "      <th>2</th>\n",
       "      <td>03-05-2018 02:44 PM</td>\n",
       "      <td>10.5</td>\n",
       "      <td>NaN</td>\n",
       "      <td>NaN</td>\n",
       "    </tr>\n",
       "    <tr>\n",
       "      <th>3</th>\n",
       "      <td>03-05-2018 02:59 PM</td>\n",
       "      <td>10.7</td>\n",
       "      <td>NaN</td>\n",
       "      <td>NaN</td>\n",
       "    </tr>\n",
       "    <tr>\n",
       "      <th>4</th>\n",
       "      <td>03-05-2018 03:13 PM</td>\n",
       "      <td>10.6</td>\n",
       "      <td>NaN</td>\n",
       "      <td>NaN</td>\n",
       "    </tr>\n",
       "    <tr>\n",
       "      <th>...</th>\n",
       "      <td>...</td>\n",
       "      <td>...</td>\n",
       "      <td>...</td>\n",
       "      <td>...</td>\n",
       "    </tr>\n",
       "    <tr>\n",
       "      <th>111770</th>\n",
       "      <td>06-21-2022 04:37 PM</td>\n",
       "      <td>7.3</td>\n",
       "      <td>NaN</td>\n",
       "      <td>NaN</td>\n",
       "    </tr>\n",
       "    <tr>\n",
       "      <th>111771</th>\n",
       "      <td>06-21-2022 04:52 PM</td>\n",
       "      <td>7.3</td>\n",
       "      <td>NaN</td>\n",
       "      <td>NaN</td>\n",
       "    </tr>\n",
       "    <tr>\n",
       "      <th>111772</th>\n",
       "      <td>06-21-2022 05:07 PM</td>\n",
       "      <td>7.6</td>\n",
       "      <td>NaN</td>\n",
       "      <td>NaN</td>\n",
       "    </tr>\n",
       "    <tr>\n",
       "      <th>111773</th>\n",
       "      <td>06-21-2022 05:22 PM</td>\n",
       "      <td>8.0</td>\n",
       "      <td>NaN</td>\n",
       "      <td>NaN</td>\n",
       "    </tr>\n",
       "    <tr>\n",
       "      <th>111774</th>\n",
       "      <td>06-21-2022 05:37 PM</td>\n",
       "      <td>7.9</td>\n",
       "      <td>NaN</td>\n",
       "      <td>NaN</td>\n",
       "    </tr>\n",
       "  </tbody>\n",
       "</table>\n",
       "<p>111775 rows × 4 columns</p>\n",
       "</div>"
      ],
      "text/plain": [
       "                  timestamp  glucose  scan_glucose notes\n",
       "0       03-05-2018 02:14 PM      7.6           NaN   NaN\n",
       "1       03-05-2018 02:29 PM      9.3           NaN   NaN\n",
       "2       03-05-2018 02:44 PM     10.5           NaN   NaN\n",
       "3       03-05-2018 02:59 PM     10.7           NaN   NaN\n",
       "4       03-05-2018 03:13 PM     10.6           NaN   NaN\n",
       "...                     ...      ...           ...   ...\n",
       "111770  06-21-2022 04:37 PM      7.3           NaN   NaN\n",
       "111771  06-21-2022 04:52 PM      7.3           NaN   NaN\n",
       "111772  06-21-2022 05:07 PM      7.6           NaN   NaN\n",
       "111773  06-21-2022 05:22 PM      8.0           NaN   NaN\n",
       "111774  06-21-2022 05:37 PM      7.9           NaN   NaN\n",
       "\n",
       "[111775 rows x 4 columns]"
      ]
     },
     "execution_count": 26,
     "metadata": {},
     "output_type": "execute_result"
    }
   ],
   "source": [
    "bg"
   ]
  },
  {
   "cell_type": "code",
   "execution_count": 33,
   "id": "7a3d68c1-4c84-4413-9835-acb098d1ad0c",
   "metadata": {},
   "outputs": [],
   "source": [
    "## Time wrangling \n",
    "bg['timestamp'] = pd.to_datetime(bg['timestamp'])\n",
    "\n",
    "## Split into day and time \n",
    "bg['day'] = [d.date() for d in bg['timestamp']]\n",
    "bg['time'] = [d.time() for d in bg['timestamp']]"
   ]
  },
  {
   "cell_type": "code",
   "execution_count": null,
   "id": "1e2f9e18-e633-4291-b5cc-7dea5d5333fb",
   "metadata": {},
   "outputs": [],
   "source": []
  }
 ],
 "metadata": {
  "kernelspec": {
   "display_name": "Python 3 (ipykernel)",
   "language": "python",
   "name": "python3"
  },
  "language_info": {
   "codemirror_mode": {
    "name": "ipython",
    "version": 3
   },
   "file_extension": ".py",
   "mimetype": "text/x-python",
   "name": "python",
   "nbconvert_exporter": "python",
   "pygments_lexer": "ipython3",
   "version": "3.9.12"
  }
 },
 "nbformat": 4,
 "nbformat_minor": 5
}
